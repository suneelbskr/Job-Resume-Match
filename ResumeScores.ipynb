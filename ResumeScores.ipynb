{
 "cells": [
  {
   "cell_type": "code",
   "execution_count": 1,
   "id": "cc1ae2f9",
   "metadata": {},
   "outputs": [],
   "source": [
    "#pip install docx2txt"
   ]
  },
  {
   "cell_type": "code",
   "execution_count": 28,
   "id": "56a38b8d",
   "metadata": {},
   "outputs": [],
   "source": [
    "import docx2txt\n",
    "import pandas as pd\n",
    "import matplotlib.pyplot as plt"
   ]
  },
  {
   "cell_type": "code",
   "execution_count": 3,
   "id": "e1ff1348",
   "metadata": {},
   "outputs": [],
   "source": [
    "resume = docx2txt.process(\"D://AI_ML//Projects//Resume//Resume1.docx\")"
   ]
  },
  {
   "cell_type": "code",
   "execution_count": 5,
   "id": "6fc71cb5",
   "metadata": {},
   "outputs": [],
   "source": [
    "job_description = docx2txt.process(\"D://AI_ML//Projects//Resume/Job_Desc.docx\")"
   ]
  },
  {
   "cell_type": "code",
   "execution_count": 6,
   "id": "a4956c18",
   "metadata": {
    "scrolled": true
   },
   "outputs": [],
   "source": [
    "#job_description"
   ]
  },
  {
   "cell_type": "code",
   "execution_count": 7,
   "id": "a602e622",
   "metadata": {},
   "outputs": [],
   "source": [
    "text = [resume, job_description]"
   ]
  },
  {
   "cell_type": "code",
   "execution_count": 9,
   "id": "b9559a15",
   "metadata": {},
   "outputs": [],
   "source": [
    "from sklearn.feature_extraction.text import CountVectorizer"
   ]
  },
  {
   "cell_type": "code",
   "execution_count": 10,
   "id": "2d0623f6",
   "metadata": {},
   "outputs": [],
   "source": [
    "cv = CountVectorizer()"
   ]
  },
  {
   "cell_type": "code",
   "execution_count": 11,
   "id": "21fcc677",
   "metadata": {},
   "outputs": [],
   "source": [
    "count_matrix = cv.fit_transform(text)"
   ]
  },
  {
   "cell_type": "code",
   "execution_count": 12,
   "id": "24f6f9ec",
   "metadata": {},
   "outputs": [
    {
     "data": {
      "text/plain": [
       "<2x468 sparse matrix of type '<class 'numpy.int64'>'\n",
       "\twith 519 stored elements in Compressed Sparse Row format>"
      ]
     },
     "execution_count": 12,
     "metadata": {},
     "output_type": "execute_result"
    }
   ],
   "source": [
    "count_matrix"
   ]
  },
  {
   "cell_type": "code",
   "execution_count": 13,
   "id": "685425e8",
   "metadata": {},
   "outputs": [],
   "source": [
    "from sklearn.metrics.pairwise import cosine_similarity"
   ]
  },
  {
   "cell_type": "code",
   "execution_count": 14,
   "id": "63143692",
   "metadata": {},
   "outputs": [],
   "source": [
    "match_percentage  = cosine_similarity(count_matrix)[0][1]*100"
   ]
  },
  {
   "cell_type": "code",
   "execution_count": 15,
   "id": "30988ad3",
   "metadata": {},
   "outputs": [],
   "source": [
    "match_percentage  = round(match_percentage, 2)\n"
   ]
  },
  {
   "cell_type": "code",
   "execution_count": 16,
   "id": "7dab668d",
   "metadata": {
    "scrolled": false
   },
   "outputs": [
    {
     "name": "stdout",
     "output_type": "stream",
     "text": [
      " This Resume Matches 56.76 of the Job Description\n"
     ]
    }
   ],
   "source": [
    "print(\" This Resume Matches \" + str(match_percentage) + \" of the Job Description\")"
   ]
  },
  {
   "cell_type": "markdown",
   "id": "7c5805be",
   "metadata": {},
   "source": [
    "***************************************************************"
   ]
  },
  {
   "cell_type": "markdown",
   "id": "a83e9423",
   "metadata": {},
   "source": [
    "***\n",
    "**Same code from above which Loops through Folder and score all Resumes**\n",
    "***"
   ]
  },
  {
   "cell_type": "markdown",
   "id": "e2994418",
   "metadata": {},
   "source": [
    "***************************************************************"
   ]
  },
  {
   "cell_type": "code",
   "execution_count": 17,
   "id": "6d60273b",
   "metadata": {},
   "outputs": [],
   "source": [
    "\n",
    "import os"
   ]
  },
  {
   "cell_type": "code",
   "execution_count": 21,
   "id": "639e3101",
   "metadata": {
    "scrolled": false
   },
   "outputs": [
    {
     "name": "stdout",
     "output_type": "stream",
     "text": [
      " The Resume Job_Desc.docx scores 1.0 Agaisnt Job Description\n",
      " The Resume Maria Lisa.docx scores 0.57 Agaisnt Job Description\n",
      " The Resume MARIA_LISA.docx scores 0.57 Agaisnt Job Description\n",
      " The Resume Resume_2.docx scores 0.58 Agaisnt Job Description\n"
     ]
    }
   ],
   "source": [
    "resume_score = {}\n",
    "\n",
    "for filename in os.listdir(\"D:\\\\AI_ML\\\\Projects\\\\Resume\\\\resumes\"):\n",
    "    resume_data = docx2txt.process(filename)\n",
    "    stich_job_resume = [resume_data, job_description]\n",
    "    ct_matrix = cv.fit_transform(stich_job_resume)\n",
    "    score = cosine_similarity(ct_matrix)[0][1]\n",
    "    resume_score[filename] = round(score,2)\n",
    "    print(\" The Resume \" + filename + \" scores \" + str(round(score,2)) + \" Agaisnt Job Description\")"
   ]
  },
  {
   "cell_type": "code",
   "execution_count": 25,
   "id": "e7be80ff",
   "metadata": {},
   "outputs": [],
   "source": [
    "resume_score_df = pd.DataFrame(resume_score.items(), columns= ['Resume', 'Score'])"
   ]
  },
  {
   "cell_type": "code",
   "execution_count": 26,
   "id": "c11df3c9",
   "metadata": {},
   "outputs": [
    {
     "data": {
      "text/html": [
       "<div>\n",
       "<style scoped>\n",
       "    .dataframe tbody tr th:only-of-type {\n",
       "        vertical-align: middle;\n",
       "    }\n",
       "\n",
       "    .dataframe tbody tr th {\n",
       "        vertical-align: top;\n",
       "    }\n",
       "\n",
       "    .dataframe thead th {\n",
       "        text-align: right;\n",
       "    }\n",
       "</style>\n",
       "<table border=\"1\" class=\"dataframe\">\n",
       "  <thead>\n",
       "    <tr style=\"text-align: right;\">\n",
       "      <th></th>\n",
       "      <th>Resume</th>\n",
       "      <th>Score</th>\n",
       "    </tr>\n",
       "  </thead>\n",
       "  <tbody>\n",
       "    <tr>\n",
       "      <th>0</th>\n",
       "      <td>Job_Desc.docx</td>\n",
       "      <td>1.00</td>\n",
       "    </tr>\n",
       "    <tr>\n",
       "      <th>1</th>\n",
       "      <td>Maria Lisa.docx</td>\n",
       "      <td>0.57</td>\n",
       "    </tr>\n",
       "    <tr>\n",
       "      <th>2</th>\n",
       "      <td>MARIA_LISA.docx</td>\n",
       "      <td>0.57</td>\n",
       "    </tr>\n",
       "    <tr>\n",
       "      <th>3</th>\n",
       "      <td>Resume_2.docx</td>\n",
       "      <td>0.58</td>\n",
       "    </tr>\n",
       "  </tbody>\n",
       "</table>\n",
       "</div>"
      ],
      "text/plain": [
       "            Resume  Score\n",
       "0    Job_Desc.docx   1.00\n",
       "1  Maria Lisa.docx   0.57\n",
       "2  MARIA_LISA.docx   0.57\n",
       "3    Resume_2.docx   0.58"
      ]
     },
     "execution_count": 26,
     "metadata": {},
     "output_type": "execute_result"
    }
   ],
   "source": [
    "resume_score_df.head()"
   ]
  },
  {
   "cell_type": "code",
   "execution_count": 30,
   "id": "0bd5632f",
   "metadata": {},
   "outputs": [
    {
     "data": {
      "text/plain": [
       "[]"
      ]
     },
     "execution_count": 30,
     "metadata": {},
     "output_type": "execute_result"
    },
    {
     "data": {
      "image/png": "[encoded data removed]",
      "text/plain": [
       "<Figure size 720x360 with 1 Axes>"
      ]
     },
     "metadata": {
      "needs_background": "light"
     },
     "output_type": "display_data"
    }
   ],
   "source": [
    "plt.figure(figsize = [10,5])\n",
    "plt.bar(resume_score_df['Resume'],resume_score_df['Score'], color = \"blue\")\n",
    "plt.title(\"Resumes Score For Job Description\")\n",
    "plt.xlabel(\"Resumes\")\n",
    "plt.ylabel(\"Score\")\n",
    "plt.plot()"
   ]
  }
 ],
 "metadata": {
  "kernelspec": {
   "display_name": "Python 3",
   "language": "python",
   "name": "python3"
  },
  "language_info": {
   "codemirror_mode": {
    "name": "ipython",
    "version": 3
   },
   "file_extension": ".py",
   "mimetype": "text/x-python",
   "name": "python",
   "nbconvert_exporter": "python",
   "pygments_lexer": "ipython3",
   "version": "3.8.8"
  }
 },
 "nbformat": 4,
 "nbformat_minor": 5
}
